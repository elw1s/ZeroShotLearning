{
  "nbformat": 4,
  "nbformat_minor": 0,
  "metadata": {
    "colab": {
      "provenance": [],
      "gpuType": "T4",
      "authorship_tag": "ABX9TyMZKKdrMATvAGvobLUM+24G"
    },
    "kernelspec": {
      "name": "python3",
      "display_name": "Python 3"
    },
    "language_info": {
      "name": "python"
    },
    "accelerator": "GPU"
  },
  "cells": [
    {
      "cell_type": "markdown",
      "source": [
        "***Imports***"
      ],
      "metadata": {
        "id": "9Qxze6Dv5dMu"
      }
    },
    {
      "cell_type": "code",
      "source": [
        "!pip install torcheval"
      ],
      "metadata": {
        "colab": {
          "base_uri": "https://localhost:8080/"
        },
        "id": "v6WXZsYVnBzi",
        "outputId": "453a8e16-e840-4b23-d842-260f9ff58364"
      },
      "execution_count": 1,
      "outputs": [
        {
          "output_type": "stream",
          "name": "stdout",
          "text": [
            "Collecting torcheval\n",
            "  Downloading torcheval-0.0.7-py3-none-any.whl (179 kB)\n",
            "\u001b[2K     \u001b[90m━━━━━━━━━━━━━━━━━━━━━━━━━━━━━━━━━━━━━━━\u001b[0m \u001b[32m179.2/179.2 kB\u001b[0m \u001b[31m3.6 MB/s\u001b[0m eta \u001b[36m0:00:00\u001b[0m\n",
            "\u001b[?25hRequirement already satisfied: typing-extensions in /usr/local/lib/python3.10/dist-packages (from torcheval) (4.5.0)\n",
            "Installing collected packages: torcheval\n",
            "Successfully installed torcheval-0.0.7\n"
          ]
        }
      ]
    },
    {
      "cell_type": "code",
      "execution_count": 2,
      "metadata": {
        "id": "O-44qU3wcrck"
      },
      "outputs": [],
      "source": [
        "import numpy as np\n",
        "import cv2\n",
        "from google.colab import drive\n",
        "from torchsummary import summary\n",
        "import torchvision.models as models\n",
        "from torchvision.models import VGG16_Weights\n",
        "from torchvision import transforms\n",
        "from torch import nn\n",
        "import torch\n",
        "import os\n",
        "from torcheval.metrics import TopKMultilabelAccuracy, MultilabelAccuracy\n",
        "import gzip\n",
        "import pickle as pkl\n",
        "from sklearn.preprocessing import LabelEncoder, normalize\n",
        "from sklearn.neighbors import KDTree\n",
        "from sklearn.utils import shuffle\n",
        "import matplotlib.pyplot as plt"
      ]
    },
    {
      "cell_type": "code",
      "source": [
        "drive.mount('/content/drive')"
      ],
      "metadata": {
        "colab": {
          "base_uri": "https://localhost:8080/"
        },
        "id": "n0uyLInilN0l",
        "outputId": "b5cdbdf6-45ab-43ee-f853-d8c5e34deb7b"
      },
      "execution_count": 3,
      "outputs": [
        {
          "output_type": "stream",
          "name": "stdout",
          "text": [
            "Mounted at /content/drive\n"
          ]
        }
      ]
    },
    {
      "cell_type": "markdown",
      "source": [
        "***Parameters***"
      ],
      "metadata": {
        "id": "PnS11JSRXxXA"
      }
    },
    {
      "cell_type": "code",
      "source": [
        "NUM_ATTR = 300\n",
        "NUM_CLASS = 15\n",
        "BATCH_SIZE = 128\n",
        "EPOCHS = 65\n",
        "LR = 5e-5\n",
        "SHUFFLE = False\n",
        "train_classes = ['arm','boy','bread','chicken','child','computer','ear','house','leg','sandwich'\n",
        ",'television','truck','vehicle','watch','woman']\n",
        "zsl_classes = ['car','food','hand','man','neck']\n",
        "WORD2VECPATH = '/content/drive/MyDrive/class_vectors.npy'\n",
        "DATAPATH = '/content/drive/MyDrive/zeroshot_data.pkl'\n",
        "MODELPATH = ''\n",
        "np.random.seed(123)"
      ],
      "metadata": {
        "id": "iixWiY4sXzSx"
      },
      "execution_count": 4,
      "outputs": []
    },
    {
      "cell_type": "code",
      "source": [
        "if torch.cuda.is_available():\n",
        "  device = torch.device(\"cuda\")\n",
        "else:\n",
        "  device = torch.device(\"cpu\")"
      ],
      "metadata": {
        "id": "1t-A7UgULUgJ"
      },
      "execution_count": 5,
      "outputs": []
    },
    {
      "cell_type": "markdown",
      "source": [
        "***Data Preprocessing***"
      ],
      "metadata": {
        "id": "anpaQKgjNwYt"
      }
    },
    {
      "cell_type": "code",
      "source": [
        "def to_categorical(y, num_classes):\n",
        "    \"\"\" 1-hot encodes a tensor \"\"\"\n",
        "    return np.eye(num_classes, dtype='uint8')[y]"
      ],
      "metadata": {
        "id": "vpk4y50JivPr"
      },
      "execution_count": 6,
      "outputs": []
    },
    {
      "cell_type": "code",
      "source": [
        "def load_data():\n",
        "  with gzip.GzipFile(DATAPATH, 'rb') as infile:\n",
        "    data = pkl.load(infile)\n",
        "\n",
        "  label_encoder = LabelEncoder()\n",
        "  label_encoder.fit(train_classes)\n",
        "\n",
        "  training_data = [instance for instance in data if instance[0] in train_classes]\n",
        "  zero_shot_data = [instance for instance in data if instance[0] not in train_classes]\n",
        "\n",
        "  #shuffle training data\n",
        "  np.random.shuffle(training_data)\n",
        "\n",
        "  train_size = 300\n",
        "  train_data = list()\n",
        "  valid_data = list()\n",
        "\n",
        "  for class_label in train_classes:\n",
        "    ct = 0\n",
        "    for instance in training_data:\n",
        "      if instance[0] == class_label:\n",
        "        if ct < train_size:\n",
        "          train_data.append(instance)\n",
        "          ct += 1\n",
        "          continue\n",
        "        valid_data.append(instance)\n",
        "\n",
        "  np.random.shuffle(train_data)\n",
        "  np.random.shuffle(valid_data)\n",
        "\n",
        "  train_data = [(instance[1], to_categorical(label_encoder.transform([instance[0]]), num_classes = NUM_CLASS)) for instance in train_data]\n",
        "  valid_data = [(instance[1], to_categorical(label_encoder.transform([instance[0]]), num_classes = NUM_CLASS)) for instance in valid_data]\n",
        "\n",
        "  x_train, y_train = zip(*train_data)\n",
        "  x_train, y_train = np.squeeze(np.asarray(x_train)), np.squeeze(np.asarray(y_train))\n",
        "  x_train = normalize(x_train, norm='l2')\n",
        "\n",
        "  x_valid, y_valid = zip(*valid_data)\n",
        "  x_valid, y_valid = np.squeeze(np.asarray(x_valid)), np.squeeze(np.asarray(y_valid))\n",
        "  x_valid = normalize(x_valid, norm='l2')\n",
        "\n",
        "  y_zsl, x_zsl = zip(*zero_shot_data)\n",
        "  x_zsl, y_zsl = np.squeeze(np.asarray(x_zsl)), np.squeeze(np.asarray(y_zsl))\n",
        "  x_zsl = normalize(x_zsl, norm='l2')\n",
        "\n",
        "  print('---- Data loading is completed')\n",
        "  return (x_train, x_valid, x_zsl), (y_train, y_valid, y_zsl)\n",
        "\n",
        "\n",
        "\n"
      ],
      "metadata": {
        "id": "u984clgXN1iy"
      },
      "execution_count": 7,
      "outputs": []
    },
    {
      "cell_type": "markdown",
      "source": [
        "***Building Model***"
      ],
      "metadata": {
        "id": "EZzCd7JW7KHQ"
      }
    },
    {
      "cell_type": "code",
      "source": [
        "def custom_kernel_init(m):\n",
        "    if type(m) == nn.Linear and m.in_features == NUM_ATTR and m.out_features == NUM_CLASS:\n",
        "      np_load_old = np.load\n",
        "      np.load = lambda *a,**k: np_load_old(*a, allow_pickle=True, **k)\n",
        "      class_vectors = np.load(WORD2VECPATH)\n",
        "      np.load = np_load_old\n",
        "      training_vectors = sorted([(label, vec) for (label, vec) in class_vectors if label in train_classes], key=lambda x: x[0])\n",
        "      classnames, vectors = zip(*training_vectors)\n",
        "      vectors = np.asarray(vectors, dtype=np.float)\n",
        "      vectors = torch.from_numpy(vectors)\n",
        "      for i in range(NUM_CLASS):\n",
        "        for k in range(NUM_ATTR):\n",
        "          m.weight.data[i][k].fill_(vectors[i][k])"
      ],
      "metadata": {
        "id": "6nRteNUUpCt-"
      },
      "execution_count": 8,
      "outputs": []
    },
    {
      "cell_type": "code",
      "source": [
        "class ZeroShotLearning(torch.nn.Sequential):\n",
        "\n",
        "  def __init__(self):\n",
        "    super(ZeroShotLearning, self).__init__()\n",
        "\n",
        "    self.linear1 = torch.nn.Linear(4096, 1024)\n",
        "    self.activation1 = torch.nn.ReLU()\n",
        "    self.bn1 = torch.nn.BatchNorm1d(1024)\n",
        "    self.dropout1 = torch.nn.Dropout(p = 0.8)\n",
        "    self.linear2 = torch.nn.Linear(1024, 512)\n",
        "    self.dropout2 = torch.nn.Dropout(p = 0.5)\n",
        "    self.linear3 = torch.nn.Linear(512, NUM_ATTR)\n",
        "    self.activation2 = torch.nn.ReLU()\n",
        "    self.linear4 = torch.nn.Linear(NUM_ATTR, NUM_CLASS)\n",
        "    self.softmax1 = torch.nn.Softmax(dim=1)\n",
        "\n",
        "  def forward(self,x):\n",
        "    x = self.linear1(x)\n",
        "    x = self.activation1(x)\n",
        "    x = self.bn1(x)\n",
        "    x = self.dropout1(x)\n",
        "    x = self.linear2(x)\n",
        "    x = self.dropout2(x)\n",
        "    x = self.linear3(x)\n",
        "    x = self.activation2(x)\n",
        "    x = self.linear4(x)\n",
        "    x = self.softmax1(x)\n",
        "    return x\n"
      ],
      "metadata": {
        "id": "4ZFUSxnk7IyI"
      },
      "execution_count": 9,
      "outputs": []
    },
    {
      "cell_type": "code",
      "source": [
        "def build_model():\n",
        "  model = ZeroShotLearning()\n",
        "  print(\"---- The model building is completed\")\n",
        "  return model"
      ],
      "metadata": {
        "id": "o32R3xa3kjgj"
      },
      "execution_count": 10,
      "outputs": []
    },
    {
      "cell_type": "markdown",
      "source": [
        "***Image Embeddings***"
      ],
      "metadata": {
        "id": "rBoTaWG95iUW"
      }
    },
    {
      "cell_type": "code",
      "source": [
        "def get_vgg16_model():\n",
        "\n",
        "  model = models.vgg16(pretrained = True)\n",
        "  model = nn.Sequential(*list(model.children())[:-2]) #Pop the last 2 layers\n",
        "  summary(model, (3,224,224))\n",
        "  return model"
      ],
      "metadata": {
        "id": "AV7F1PmflEw2"
      },
      "execution_count": 11,
      "outputs": []
    },
    {
      "cell_type": "code",
      "source": [
        "#Returns the features of a given image. Uses VGG16 as extractor\n",
        "def get_features(model, cropped_image):\n",
        "  weights = VGG16_Weights.DEFAULT\n",
        "  preprocess = weights.transforms()\n",
        "  img_transformed = preprocess(cropped_image)\n",
        "  features = model(img_transformed)\n",
        "  return features"
      ],
      "metadata": {
        "id": "T_kxECHQlly0"
      },
      "execution_count": 12,
      "outputs": []
    },
    {
      "cell_type": "markdown",
      "source": [
        "****Training****"
      ],
      "metadata": {
        "id": "CvvzwpkH5YN_"
      }
    },
    {
      "cell_type": "code",
      "source": [
        "def load_model(model_path):\n",
        "  model = torch.load(model_path)\n",
        "  return model"
      ],
      "metadata": {
        "id": "SZR-AXNy5T8Y"
      },
      "execution_count": 13,
      "outputs": []
    },
    {
      "cell_type": "code",
      "source": [
        "def save_model(model, model_path):\n",
        "  #if not os.path.exists(model_path):\n",
        "    #os.makedirs(model_path)\n",
        "  torch.save(model, model_path)\n",
        "  return"
      ],
      "metadata": {
        "id": "YRQkfolcgamo"
      },
      "execution_count": 14,
      "outputs": []
    },
    {
      "cell_type": "code",
      "source": [
        "def train_model(model, train_data, valid_data):\n",
        "\n",
        "  #training_loader = torch.utils.data.DataLoader(train_data, batch_size = BATCH_SIZE, shuffle = TRAIN_SHUFFLE)\n",
        "  #validation_loader = torch.utils.data.DataLoader(valid_data, batch_size = BATCH_SIZE, shuffle = VAL_SHUFFLE)\n",
        "\n",
        "  optimizer = torch.optim.Adam(filter(lambda p: p.requires_grad, model.parameters()),lr = LR)\n",
        "  loss_fn = nn.CrossEntropyLoss()\n",
        "\n",
        "  h_train_acc = list()\n",
        "  h_val_acc = list()\n",
        "  h_epoch = list()\n",
        "  h_train_loss = list()\n",
        "  h_val_loss = list()\n",
        "\n",
        "  for epoch in range(EPOCHS):\n",
        "\n",
        "    x_train, y_train = train_data\n",
        "    if SHUFFLE:\n",
        "      x_train, y_train = shuffle(x_train, y_train)\n",
        "\n",
        "    x_valid, y_valid = valid_data\n",
        "\n",
        "    x_train_len = len(x_train)\n",
        "\n",
        "    model.train()\n",
        "    running_loss = 0\n",
        "    last_loss = 0\n",
        "    y_pred = []\n",
        "    number_of_batches = (x_train_len // BATCH_SIZE) + 1\n",
        "\n",
        "    for batch_num in range(number_of_batches):\n",
        "      startIndex = batch_num * BATCH_SIZE\n",
        "      endIndex = (batch_num * BATCH_SIZE + BATCH_SIZE)\n",
        "      if endIndex > x_train_len:\n",
        "        endIndex = x_train_len - 1\n",
        "\n",
        "      inputs, labels = x_train[startIndex:endIndex], y_train[startIndex:endIndex]\n",
        "\n",
        "      optimizer.zero_grad() #Clears x.grad for every parameter x in the optimizer. It is important to call this before loss.backward().\n",
        "      y_pred = model(torch.from_numpy(inputs))\n",
        "      labels = torch.from_numpy(labels.astype('float'))\n",
        "      loss = loss_fn(y_pred,labels)\n",
        "\n",
        "      loss.backward() #Computes dloss/dx for every parameter x\n",
        "\n",
        "      optimizer.step() #Updates the value of x using the gradient x.grad\n",
        "\n",
        "      running_loss += loss.item()\n",
        "\n",
        "      metric = MultilabelAccuracy()\n",
        "      acc = MultilabelAccuracy()\n",
        "      metric.update(y_pred, labels)\n",
        "      acc = metric.compute().item()\n",
        "\n",
        "    model.eval()\n",
        "\n",
        "    last_loss = running_loss / number_of_batches\n",
        "\n",
        "    running_vloss = 0\n",
        "    x_valid_len = len(x_valid)\n",
        "    number_of_batches = (x_valid_len // BATCH_SIZE) + 1\n",
        "    with torch.no_grad():\n",
        "        for batch_num in range(number_of_batches):\n",
        "\n",
        "          startIndex = batch_num * BATCH_SIZE\n",
        "          endIndex = (batch_num * BATCH_SIZE + BATCH_SIZE)\n",
        "          if endIndex > x_valid_len:\n",
        "            endIndex = x_valid_len - 1\n",
        "\n",
        "          vinputs, vlabels = x_valid[startIndex:endIndex], y_valid[startIndex:endIndex]\n",
        "          voutputs = model(torch.from_numpy(vinputs))\n",
        "          vlabels = torch.from_numpy(vlabels.astype('float'))\n",
        "          vloss = loss_fn(voutputs, vlabels)\n",
        "          running_vloss += vloss\n",
        "\n",
        "          vacc = MultilabelAccuracy()\n",
        "          metric.update(voutputs, vlabels)\n",
        "          vacc = metric.compute().item()\n",
        "\n",
        "    avg_vloss = running_vloss / (batch_num+1)\n",
        "\n",
        "    h_epoch.append(epoch+1)\n",
        "    h_train_loss.append(last_loss)\n",
        "    h_val_loss.append(avg_vloss)\n",
        "    h_train_acc.append(acc)\n",
        "    h_val_acc.append(vacc)\n",
        "    print('Epoch={} train_loss={} valid_loss={} train accuracy={} val accuracy={}'.format(epoch,last_loss, avg_vloss,acc, vacc))\n",
        "\n",
        "  print('Training is completed')\n",
        "  return (h_epoch, h_train_loss, h_val_loss, h_train_acc, h_val_acc)\n",
        "\n"
      ],
      "metadata": {
        "id": "L6XeaFKTg9TS"
      },
      "execution_count": 15,
      "outputs": []
    },
    {
      "cell_type": "markdown",
      "source": [
        "***Evaluation Graphs***"
      ],
      "metadata": {
        "id": "xktbX55I_9R1"
      }
    },
    {
      "cell_type": "code",
      "source": [
        "def draw_graphs(history):\n",
        "    h_epoch, h_train_loss, h_val_loss, h_train_acc, h_val_acc = history\n",
        "\n",
        "    #Train Loss vs Validation Loss\n",
        "    plt.plot(h_epoch, h_train_loss, 'r--')\n",
        "    plt.plot(h_epoch, h_val_loss, 'b-')\n",
        "    plt.legend(['Training Loss', 'Validation Loss'])\n",
        "    plt.xlabel('Epoch')\n",
        "    plt.ylabel('Loss')\n",
        "    plt.show()\n",
        "\n",
        "    #Train Accuracy vs Validation Accuracy\n",
        "    plt.plot(h_epoch, h_train_acc, 'r--')\n",
        "    plt.plot(h_epoch, h_val_acc, 'b-')\n",
        "    plt.legend(['Training Accuracy', 'Validation Accuracy'])\n",
        "    plt.xlabel('Epoch')\n",
        "    plt.ylabel('Accuracy')\n",
        "    plt.show()\n"
      ],
      "metadata": {
        "id": "W-LRtG_Q_8R2"
      },
      "execution_count": 16,
      "outputs": []
    },
    {
      "cell_type": "markdown",
      "source": [
        "***Evaluation***"
      ],
      "metadata": {
        "id": "qHf1fIWGkEHI"
      }
    },
    {
      "cell_type": "code",
      "source": [
        "(x_train, x_valid, x_zsl), (y_train, y_valid, y_zsl) = load_data()\n",
        "model = build_model()\n",
        "\n",
        "model.linear4.weight.requires_grad = False\n",
        "model.linear4.bias.requires_grad = False\n",
        "model.apply(custom_kernel_init)\n",
        "\n",
        "history = train_model(model, (x_train,y_train), (x_valid,y_valid))\n",
        "model = model.to('cuda')\n",
        "draw_graphs(history)\n",
        "summary(model, input_size=(4096,))"
      ],
      "metadata": {
        "colab": {
          "base_uri": "https://localhost:8080/",
          "height": 1000
        },
        "id": "mEYu637dkGEA",
        "outputId": "b1c8d03b-8bf6-436c-974b-8f28891e70b2"
      },
      "execution_count": 17,
      "outputs": [
        {
          "output_type": "stream",
          "name": "stdout",
          "text": [
            "---- Data loading is completed\n",
            "---- The model building is completed\n"
          ]
        },
        {
          "output_type": "stream",
          "name": "stderr",
          "text": [
            "<ipython-input-8-0fd653740b69>:9: DeprecationWarning: `np.float` is a deprecated alias for the builtin `float`. To silence this warning, use `float` by itself. Doing this will not modify any behavior and is safe. If you specifically wanted the numpy scalar type, use `np.float64` here.\n",
            "Deprecated in NumPy 1.20; for more details and guidance: https://numpy.org/devdocs/release/1.20.0-notes.html#deprecations\n",
            "  vectors = np.asarray(vectors, dtype=np.float)\n"
          ]
        },
        {
          "output_type": "stream",
          "name": "stdout",
          "text": [
            "Epoch=0 train_loss=2.6514932872762915 valid_loss=2.702721618943744 train accuracy=0.15789473056793213 val accuracy=0.001985440030694008\n",
            "Epoch=1 train_loss=2.5502307470874284 valid_loss=2.608924748590364 train accuracy=0.31578946113586426 val accuracy=0.07081402838230133\n",
            "Epoch=2 train_loss=2.483165253019124 valid_loss=2.4279115766005974 train accuracy=0.31578946113586426 val accuracy=0.33620119094848633\n",
            "Epoch=3 train_loss=2.4181725716025007 valid_loss=2.3802662909378314 train accuracy=0.4736842215061188 val accuracy=0.39311712980270386\n",
            "Epoch=4 train_loss=2.376394130006345 valid_loss=2.356174719279691 train accuracy=0.5263158082962036 val accuracy=0.41826605796813965\n",
            "Epoch=5 train_loss=2.353428875775572 valid_loss=2.3395261790766013 train accuracy=0.5263158082962036 val accuracy=0.4315023124217987\n",
            "Epoch=6 train_loss=2.326193760761893 valid_loss=2.3223738970811523 train accuracy=0.4736842215061188 val accuracy=0.4500330984592438\n",
            "Epoch=7 train_loss=2.3040889143012464 valid_loss=2.3012568147424313 train accuracy=0.5263158082962036 val accuracy=0.48841825127601624\n",
            "Epoch=8 train_loss=2.281894024378451 valid_loss=2.286644538927321 train accuracy=0.6315789222717285 val accuracy=0.5115817189216614\n",
            "Epoch=9 train_loss=2.265313689737194 valid_loss=2.276281248146136 train accuracy=0.6315789222717285 val accuracy=0.527465283870697\n",
            "Epoch=10 train_loss=2.2493130736385214 valid_loss=2.268599346224662 train accuracy=0.6315789222717285 val accuracy=0.5387160778045654\n",
            "Epoch=11 train_loss=2.2294809606337473 valid_loss=2.262128624924651 train accuracy=0.7368420958518982 val accuracy=0.5453342199325562\n",
            "Epoch=12 train_loss=2.2184660397960165 valid_loss=2.2544764909885884 train accuracy=0.7368420958518982 val accuracy=0.5565850138664246\n",
            "Epoch=13 train_loss=2.2002072863536752 valid_loss=2.2491345372243177 train accuracy=0.7894737124443054 val accuracy=0.5512905120849609\n",
            "Epoch=14 train_loss=2.192241219376154 valid_loss=2.244288689124265 train accuracy=0.6842105388641357 val accuracy=0.5598940849304199\n",
            "Epoch=15 train_loss=2.184675936677019 valid_loss=2.24171403376016 train accuracy=0.7894737124443054 val accuracy=0.5625413656234741\n",
            "Epoch=16 train_loss=2.1660279681121835 valid_loss=2.2378478155375294 train accuracy=0.8421052694320679 val accuracy=0.5645267963409424\n",
            "Epoch=17 train_loss=2.162465076054833 valid_loss=2.234083018154793 train accuracy=0.7894737124443054 val accuracy=0.5711449384689331\n",
            "Epoch=18 train_loss=2.1517611246335466 valid_loss=2.2310609591437416 train accuracy=0.8421052694320679 val accuracy=0.5737922191619873\n",
            "Epoch=19 train_loss=2.136819399036848 valid_loss=2.228845391481642 train accuracy=0.8421052694320679 val accuracy=0.5764394402503967\n",
            "Epoch=20 train_loss=2.1264185721397793 valid_loss=2.2274643305748225 train accuracy=0.7894737124443054 val accuracy=0.5804103016853333\n",
            "Epoch=21 train_loss=2.122213316243959 valid_loss=2.224369157952005 train accuracy=0.8421052694320679 val accuracy=0.5830575823783875\n",
            "Epoch=22 train_loss=2.105544241955395 valid_loss=2.2226927594451737 train accuracy=0.8421052694320679 val accuracy=0.5876902937889099\n",
            "Epoch=23 train_loss=2.10547251067511 valid_loss=2.219657538913279 train accuracy=0.8947368264198303 val accuracy=0.5883520841598511\n",
            "Epoch=24 train_loss=2.0942013201518908 valid_loss=2.218095614489848 train accuracy=0.8947368264198303 val accuracy=0.5929847955703735\n",
            "Epoch=25 train_loss=2.0867447622545194 valid_loss=2.2167045771003893 train accuracy=0.8947368264198303 val accuracy=0.595632016658783\n",
            "Epoch=26 train_loss=2.0785348073072862 valid_loss=2.215594552368635 train accuracy=0.8947368264198303 val accuracy=0.5929847955703735\n",
            "Epoch=27 train_loss=2.071440812577466 valid_loss=2.211701286849492 train accuracy=0.8421052694320679 val accuracy=0.6035737991333008\n",
            "Epoch=28 train_loss=2.0645143721465087 valid_loss=2.2129051611086146 train accuracy=0.7894737124443054 val accuracy=0.5943083763122559\n",
            "Epoch=29 train_loss=2.0563669629307864 valid_loss=2.2137555536658815 train accuracy=0.8947368264198303 val accuracy=0.5949702262878418\n",
            "Epoch=30 train_loss=2.0500404841950086 valid_loss=2.2112957487134115 train accuracy=0.8947368264198303 val accuracy=0.5982792973518372\n",
            "Epoch=31 train_loss=2.041990766518243 valid_loss=2.21302831029549 train accuracy=0.8421052694320679 val accuracy=0.5989410877227783\n",
            "Epoch=32 train_loss=2.0393688760245796 valid_loss=2.2114472843795308 train accuracy=0.8947368264198303 val accuracy=0.5969556570053101\n",
            "Epoch=33 train_loss=2.038750738953921 valid_loss=2.206788044260253 train accuracy=0.8421052694320679 val accuracy=0.5982792973518372\n",
            "Epoch=34 train_loss=2.0350908137645507 valid_loss=2.208388553717957 train accuracy=0.8947368264198303 val accuracy=0.6009265184402466\n",
            "Epoch=35 train_loss=2.0270742916962274 valid_loss=2.2085294687033943 train accuracy=0.8947368264198303 val accuracy=0.6042355895042419\n",
            "Epoch=36 train_loss=2.022356359915786 valid_loss=2.2085579342378807 train accuracy=0.8421052694320679 val accuracy=0.5996029376983643\n",
            "Epoch=37 train_loss=2.022468619536042 valid_loss=2.206259241804392 train accuracy=0.8421052694320679 val accuracy=0.6048974394798279\n",
            "Epoch=38 train_loss=2.0095720243999704 valid_loss=2.206614055907324 train accuracy=0.8947368264198303 val accuracy=0.6062210202217102\n",
            "Epoch=39 train_loss=2.010056908198834 valid_loss=2.2095928287192703 train accuracy=0.8947368264198303 val accuracy=0.6029119491577148\n",
            "Epoch=40 train_loss=2.000510529081245 valid_loss=2.2069308324162624 train accuracy=0.8947368264198303 val accuracy=0.6009265184402466\n",
            "Epoch=41 train_loss=2.001698783126371 valid_loss=2.2071289191140777 train accuracy=0.8947368264198303 val accuracy=0.6035737991333008\n",
            "Epoch=42 train_loss=1.9980272229417766 valid_loss=2.2044215866083663 train accuracy=0.8947368264198303 val accuracy=0.6075446605682373\n",
            "Epoch=43 train_loss=1.9937177019122967 valid_loss=2.206729202819545 train accuracy=0.8947368264198303 val accuracy=0.6062210202217102\n",
            "Epoch=44 train_loss=1.992989486185507 valid_loss=2.2059494279221528 train accuracy=0.8421052694320679 val accuracy=0.605559229850769\n",
            "Epoch=45 train_loss=1.9881652820996984 valid_loss=2.2063127060472554 train accuracy=0.8947368264198303 val accuracy=0.6009265184402466\n",
            "Epoch=46 train_loss=1.9807318501155389 valid_loss=2.203982723921183 train accuracy=0.8947368264198303 val accuracy=0.6095300912857056\n",
            "Epoch=47 train_loss=1.9860243628983392 valid_loss=2.2028223511555955 train accuracy=0.8947368264198303 val accuracy=0.6095300912857056\n",
            "Epoch=48 train_loss=1.9800290756229835 valid_loss=2.2023289057367026 train accuracy=0.8947368264198303 val accuracy=0.6135010123252869\n",
            "Epoch=49 train_loss=1.9741619861363406 valid_loss=2.203507775740166 train accuracy=0.8947368264198303 val accuracy=0.6095300912857056\n",
            "Epoch=50 train_loss=1.9757666887132703 valid_loss=2.203485074586102 train accuracy=0.8421052694320679 val accuracy=0.6082065105438232\n",
            "Epoch=51 train_loss=1.9675358536269256 valid_loss=2.206471285113828 train accuracy=0.8947368264198303 val accuracy=0.6062210202217102\n",
            "Epoch=52 train_loss=1.9658457398229434 valid_loss=2.2067334037939355 train accuracy=0.8947368264198303 val accuracy=0.6042355895042419\n",
            "Epoch=53 train_loss=1.9637143044196048 valid_loss=2.2045285315733287 train accuracy=0.8947368264198303 val accuracy=0.6068828701972961\n",
            "Epoch=54 train_loss=1.9644268868540071 valid_loss=2.200703102171362 train accuracy=0.8947368264198303 val accuracy=0.614162802696228\n",
            "Epoch=55 train_loss=1.9631924194076822 valid_loss=2.203726750876134 train accuracy=0.8947368264198303 val accuracy=0.6035737991333008\n",
            "Epoch=56 train_loss=1.9584612248489925 valid_loss=2.20325624893996 train accuracy=0.8947368264198303 val accuracy=0.6095300912857056\n",
            "Epoch=57 train_loss=1.9567091052695476 valid_loss=2.2067091799163747 train accuracy=0.8947368264198303 val accuracy=0.6035737991333008\n",
            "Epoch=58 train_loss=1.957694869689992 valid_loss=2.206780135110464 train accuracy=0.8947368264198303 val accuracy=0.6035737991333008\n",
            "Epoch=59 train_loss=1.9532677036007504 valid_loss=2.2041801248810122 train accuracy=0.8947368264198303 val accuracy=0.605559229850769\n",
            "Epoch=60 train_loss=1.9491881502884827 valid_loss=2.2039675498824747 train accuracy=0.8947368264198303 val accuracy=0.6082065105438232\n",
            "Epoch=61 train_loss=1.9510475590577272 valid_loss=2.203063892499943 train accuracy=0.8947368264198303 val accuracy=0.6068828701972961\n",
            "Epoch=62 train_loss=1.9477978832897191 valid_loss=2.203757440811762 train accuracy=0.8947368264198303 val accuracy=0.6115155816078186\n",
            "Epoch=63 train_loss=1.9501993763900485 valid_loss=2.2003368536002994 train accuracy=0.8947368264198303 val accuracy=0.6135010123252869\n",
            "Epoch=64 train_loss=1.9458907238052536 valid_loss=2.201824782504922 train accuracy=0.8421052694320679 val accuracy=0.6082065105438232\n",
            "Training is completed\n"
          ]
        },
        {
          "output_type": "display_data",
          "data": {
            "text/plain": [
              "<Figure size 640x480 with 1 Axes>"
            ],
            "image/png": "[encoded data removed]"
          },
          "metadata": {}
        },
        {
          "output_type": "display_data",
          "data": {
            "text/plain": [
              "<Figure size 640x480 with 1 Axes>"
            ],
            "image/png": "[encoded data removed]"
          },
          "metadata": {}
        },
        {
          "output_type": "stream",
          "name": "stdout",
          "text": [
            "----------------------------------------------------------------\n",
            "        Layer (type)               Output Shape         Param #\n",
            "================================================================\n",
            "            Linear-1                 [-1, 1024]       4,195,328\n",
            "              ReLU-2                 [-1, 1024]               0\n",
            "       BatchNorm1d-3                 [-1, 1024]           2,048\n",
            "           Dropout-4                 [-1, 1024]               0\n",
            "            Linear-5                  [-1, 512]         524,800\n",
            "           Dropout-6                  [-1, 512]               0\n",
            "            Linear-7                  [-1, 300]         153,900\n",
            "              ReLU-8                  [-1, 300]               0\n",
            "            Linear-9                   [-1, 15]           4,515\n",
            "          Softmax-10                   [-1, 15]               0\n",
            "================================================================\n",
            "Total params: 4,880,591\n",
            "Trainable params: 4,876,076\n",
            "Non-trainable params: 4,515\n",
            "----------------------------------------------------------------\n",
            "Input size (MB): 0.02\n",
            "Forward/backward pass size (MB): 0.04\n",
            "Params size (MB): 18.62\n",
            "Estimated Total Size (MB): 18.68\n",
            "----------------------------------------------------------------\n"
          ]
        }
      ]
    },
    {
      "cell_type": "markdown",
      "source": [
        "***Save Model***"
      ],
      "metadata": {
        "id": "LQ4uPgm0H5kG"
      }
    },
    {
      "cell_type": "code",
      "source": [
        "save_model(model, '/content/drive/MyDrive/zsl_model.pt')"
      ],
      "metadata": {
        "id": "1wNKy47hH9hO"
      },
      "execution_count": 18,
      "outputs": []
    },
    {
      "cell_type": "markdown",
      "source": [
        "***Prediction***"
      ],
      "metadata": {
        "id": "Jy74BXF6HyNv"
      }
    },
    {
      "cell_type": "code",
      "source": [
        "np_load_old = np.load\n",
        "np.load = lambda *a,**k: np_load_old(*a, allow_pickle=True, **k)\n",
        "class_vectors       = sorted(np.load(WORD2VECPATH), key=lambda x: x[0])\n",
        "np.load = np_load_old\n",
        "classnames, vectors = zip(*class_vectors)\n",
        "classnames          = list(classnames)\n",
        "vectors             = np.asarray(vectors, dtype=np.float)\n",
        "\n",
        "model = nn.Sequential(*list(model.children())[:-2])\n",
        "model = model.to('cuda')\n",
        "print(summary(model, input_size=(4096,)))\n",
        "\n",
        "tree = KDTree(vectors)\n",
        "pred_zsl = model(torch.from_numpy(x_zsl).to('cuda'))\n",
        "model = model.to('cuda')\n",
        "top5, top3, top1 = 0,0,0\n",
        "for i, pred in enumerate(pred_zsl):\n",
        "  pred = pred.cpu().detach().numpy()\n",
        "  pred = np.expand_dims(pred, axis=0)\n",
        "  dist_5, index_5 = tree.query(pred, k = 5)\n",
        "  pred_labels = [classnames[index] for index in index_5[0]]\n",
        "  true_label = y_zsl[i]\n",
        "\n",
        "  if true_label in pred_labels:\n",
        "    top5 += 1\n",
        "\n",
        "  if true_label in pred_labels[:3]:\n",
        "    top3 += 1\n",
        "\n",
        "  if true_label in pred_labels[0]:\n",
        "    top1 += 1\n",
        "\n",
        "print()\n",
        "print('Zero Shot Learning Scores: ')\n",
        "print(\"-> Top-5 Accuracy: %.2f\" % (top5 / float(len(x_zsl))))\n",
        "print(\"-> Top-3 Accuracy: %.2f\" % (top3 / float(len(x_zsl))))\n",
        "print(\"-> Top-1 Accuracy: %.2f\" % (top1 / float(len(x_zsl))))\n"
      ],
      "metadata": {
        "colab": {
          "base_uri": "https://localhost:8080/"
        },
        "id": "wYeaYz5rHwP1",
        "outputId": "6fde8aaa-23be-41cd-9710-fba3f9e98e0b"
      },
      "execution_count": 19,
      "outputs": [
        {
          "output_type": "stream",
          "name": "stderr",
          "text": [
            "<ipython-input-19-2767e62009a9>:7: DeprecationWarning: `np.float` is a deprecated alias for the builtin `float`. To silence this warning, use `float` by itself. Doing this will not modify any behavior and is safe. If you specifically wanted the numpy scalar type, use `np.float64` here.\n",
            "Deprecated in NumPy 1.20; for more details and guidance: https://numpy.org/devdocs/release/1.20.0-notes.html#deprecations\n",
            "  vectors             = np.asarray(vectors, dtype=np.float)\n"
          ]
        },
        {
          "output_type": "stream",
          "name": "stdout",
          "text": [
            "----------------------------------------------------------------\n",
            "        Layer (type)               Output Shape         Param #\n",
            "================================================================\n",
            "            Linear-1                 [-1, 1024]       4,195,328\n",
            "              ReLU-2                 [-1, 1024]               0\n",
            "       BatchNorm1d-3                 [-1, 1024]           2,048\n",
            "           Dropout-4                 [-1, 1024]               0\n",
            "            Linear-5                  [-1, 512]         524,800\n",
            "           Dropout-6                  [-1, 512]               0\n",
            "            Linear-7                  [-1, 300]         153,900\n",
            "              ReLU-8                  [-1, 300]               0\n",
            "================================================================\n",
            "Total params: 4,876,076\n",
            "Trainable params: 4,876,076\n",
            "Non-trainable params: 0\n",
            "----------------------------------------------------------------\n",
            "Input size (MB): 0.02\n",
            "Forward/backward pass size (MB): 0.04\n",
            "Params size (MB): 18.60\n",
            "Estimated Total Size (MB): 18.66\n",
            "----------------------------------------------------------------\n",
            "None\n",
            "\n",
            "Zero Shot Learning Scores: \n",
            "-> Top-5 Accuracy: 0.75\n",
            "-> Top-3 Accuracy: 0.39\n",
            "-> Top-1 Accuracy: 0.07\n"
          ]
        }
      ]
    }
  ]
}